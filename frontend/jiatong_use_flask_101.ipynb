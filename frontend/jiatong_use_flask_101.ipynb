{
 "cells": [
  {
   "cell_type": "markdown",
   "id": "e65d7c32",
   "metadata": {},
   "source": [
    "### this is a notebook on how to start.\n",
    "\n",
    "1. congrats you made it here.\n",
    "* the flask app and the model is already in this directory. \n",
    "* we have two models, lm_2012_arr and lm_2012_dep.\n",
    "* we just need to run the flask app. it will load the model for you.\n",
    "* the methods supported currently are those inside the py files.\n",
    "\n"
   ]
  },
  {
   "cell_type": "markdown",
   "id": "da225784",
   "metadata": {},
   "source": [
    "2. to run the flask app:\n",
    "* cd to the directory containing the flask app. that will be dsa3101-2120-01-air/frontend\n",
    "\n",
    "* start flask on your terminal. I use windows powershell, so I did:\n",
    "\n",
    "$env:FLASK_APP = \"lm_2012_arr\"\n",
    "\n",
    "flask run\n",
    "\n",
    "* done! u can run the following cells. It should return u the prediction."
   ]
  },
  {
   "cell_type": "code",
   "execution_count": 4,
   "id": "2484a8ef",
   "metadata": {},
   "outputs": [],
   "source": [
    "import requests"
   ]
  },
  {
   "cell_type": "code",
   "execution_count": 6,
   "id": "3976de84",
   "metadata": {},
   "outputs": [
    {
     "data": {
      "text/plain": [
       "'9.384'"
      ]
     },
     "execution_count": 6,
     "metadata": {},
     "output_type": "execute_result"
    }
   ],
   "source": [
    "url1 = 'http://127.0.0.1:5000/prediction'\n",
    "param1 = {'yr': 2012, 'mon':2, 'day_of_week': 7, 'dep_hour':9,'arr_hour':12, 'u_carrier': 'AA','origin_airport_code':'JFK',\n",
    "         'dest_airport_code': 'LAX', 'distance_grp':10}\n",
    "r1 = requests.get(url1, params=param1)\n",
    "r1.json()"
   ]
  }
 ],
 "metadata": {
  "kernelspec": {
   "display_name": "Python 3 (ipykernel)",
   "language": "python",
   "name": "python3"
  },
  "language_info": {
   "codemirror_mode": {
    "name": "ipython",
    "version": 3
   },
   "file_extension": ".py",
   "mimetype": "text/x-python",
   "name": "python",
   "nbconvert_exporter": "python",
   "pygments_lexer": "ipython3",
   "version": "3.7.4"
  }
 },
 "nbformat": 4,
 "nbformat_minor": 5
}
