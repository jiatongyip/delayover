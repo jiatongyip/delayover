{
 "cells": [
  {
   "cell_type": "markdown",
   "id": "31764f80",
   "metadata": {},
   "source": [
    "# this is a notebook on how to start.\n",
    "\n",
    "### congrats you made it here.\n",
    "* the flask app and the model are in the model directory. \n",
    "* we have two models, lm_2012_arr and lm_2012_dep.\n",
    "* we just need to run the flask app. it will load the model for you.\n",
    "* the methods supported currently are those inside the py files."
   ]
  },
  {
   "cell_type": "markdown",
   "id": "065518b1",
   "metadata": {},
   "source": [
    "### to run the flask app:\n",
    "* cd to the directory containing the flask app. that will be dsa3101-2120-01-air/frontend/model\n",
    "\n",
    "* start flask on your terminal. I use windows powershell, so I did:\n",
    "\n",
    "$env:FLASK_APP = \"lm_2012_arr\"\n",
    "\n",
    "flask run\n",
    "\n",
    "* done! u can run the following cells. It should return u the prediction."
   ]
  },
  {
   "cell_type": "code",
   "execution_count": 2,
   "id": "2484a8ef",
   "metadata": {},
   "outputs": [],
   "source": [
    "import requests"
   ]
  },
  {
   "cell_type": "code",
   "execution_count": 8,
   "id": "3976de84",
   "metadata": {},
   "outputs": [
    {
     "data": {
      "text/plain": [
       "'11.226'"
      ]
     },
     "execution_count": 8,
     "metadata": {},
     "output_type": "execute_result"
    }
   ],
   "source": [
    "flask_url = 'http://127.0.0.1:5000/prediction'\n",
    "param1 = {'yr': 2022, 'mon':4, 'day_of_week': 3, 'dep_hour':21,\n",
    "          'arr_hour':6, 'u_carrier': 'AA','origin_airport_code':'SIN',\n",
    "         'dest_airport_code': 'HEL', 'distance_grp':10}\n",
    "r1 = requests.get(flask_url, params=param1)\n",
    "r1.json()"
   ]
  },
  {
   "cell_type": "markdown",
   "id": "d6c4b59e",
   "metadata": {},
   "source": [
    "### now that your flask is running, good. keep it running. \n",
    "\n",
    "### next, let's try running our dash app. \n",
    "* cd to the directory with jiatongapp.py (yes this directory)\n",
    "* python jiatongapp.py\n",
    "* go to http://127.0.0.1:8050/ and see magic"
   ]
  }
 ],
 "metadata": {
  "kernelspec": {
   "display_name": "Python 3 (ipykernel)",
   "language": "python",
   "name": "python3"
  },
  "language_info": {
   "codemirror_mode": {
    "name": "ipython",
    "version": 3
   },
   "file_extension": ".py",
   "mimetype": "text/x-python",
   "name": "python",
   "nbconvert_exporter": "python",
   "pygments_lexer": "ipython3",
   "version": "3.7.4"
  }
 },
 "nbformat": 4,
 "nbformat_minor": 5
}
